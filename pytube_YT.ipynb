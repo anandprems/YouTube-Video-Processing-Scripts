{
 "cells": [
  {
   "cell_type": "code",
   "execution_count": 1,
   "id": "9463deaf",
   "metadata": {},
   "outputs": [
    {
     "name": "stdout",
     "output_type": "stream",
     "text": [
      "Defaulting to user installation because normal site-packages is not writeable\n",
      "Collecting pytube\n",
      "  Downloading pytube-15.0.0-py3-none-any.whl (57 kB)\n",
      "     ---------------------------------------- 0.0/57.6 kB ? eta -:--:--\n",
      "     ---------------------------------------- 57.6/57.6 kB 3.0 MB/s eta 0:00:00\n",
      "Installing collected packages: pytube\n",
      "Successfully installed pytube-15.0.0\n"
     ]
    },
    {
     "name": "stderr",
     "output_type": "stream",
     "text": [
      "  WARNING: The script pytube.exe is installed in 'C:\\Users\\S.A.N\\AppData\\Roaming\\Python\\Python311\\Scripts' which is not on PATH.\n",
      "  Consider adding this directory to PATH or, if you prefer to suppress this warning, use --no-warn-script-location.\n"
     ]
    }
   ],
   "source": [
    "!pip install pytube"
   ]
  },
  {
   "cell_type": "code",
   "execution_count": 1,
   "id": "6b0678da",
   "metadata": {},
   "outputs": [
    {
     "name": "stdout",
     "output_type": "stream",
     "text": [
      "Enter the YouTube video URL: https://www.youtube.com/watch?v=38B-5jiXrKw\n",
      "Download is completed successfully\n"
     ]
    }
   ],
   "source": [
    "from pytube import YouTube\n",
    "\n",
    "def Download(link):\n",
    "    youtubeObject = YouTube(link)\n",
    "    youtubeObject = youtubeObject.streams.get_highest_resolution()\n",
    "    try:\n",
    "        youtubeObject.download()\n",
    "    except:\n",
    "        print(\"An error has occurred\")\n",
    "    print(\"Download is completed successfully\")\n",
    "\n",
    "\n",
    "link = input(\"Enter the YouTube video URL: \")\n",
    "Download(link)"
   ]
  },
  {
   "cell_type": "code",
   "execution_count": 3,
   "id": "aea0c082",
   "metadata": {},
   "outputs": [
    {
     "name": "stdout",
     "output_type": "stream",
     "text": [
      "Audio extraction completed.\n"
     ]
    }
   ],
   "source": [
    "# Extracting audio from YT\n",
    "from pytube import YouTube\n",
    "\n",
    "# YouTube video URL\n",
    "video_url = \"https://www.youtube.com/watch?v=5O5rVhAaf0U\"\n",
    "\n",
    "# Create a YouTube object\n",
    "yt = YouTube(video_url)\n",
    "\n",
    "# Get the highest quality audio stream\n",
    "audio_stream = yt.streams.filter(only_audio=True).first()\n",
    "\n",
    "# Download the audio\n",
    "audio_stream.download(output_path=r\"C:\\Users\\S.A.N\\Desktop\", filename=\"Best_BGM_Score_of_Sushin_Shyam.mp3\")\n",
    "\n",
    "print(\"Audio extraction completed.\")"
   ]
  },
  {
   "cell_type": "code",
   "execution_count": 10,
   "id": "2abeba82",
   "metadata": {},
   "outputs": [
    {
     "name": "stdout",
     "output_type": "stream",
     "text": [
      "Download completed.\n"
     ]
    }
   ],
   "source": [
    "# Downloading YT playlist\n",
    "from pytube import YouTube, Playlist\n",
    "\n",
    "# YouTube playlist URL\n",
    "playlist_url = \"https://www.youtube.com/playlist?list=PL_MPYn9hN7UpAxk4DFwwg9VXu3bo6zHek\"\n",
    "\n",
    "# Create a Playlist object\n",
    "playlist = Playlist(playlist_url)\n",
    "\n",
    "# Specify the output path\n",
    "output_path = r\"C:\\Users\\S.A.N\\Desktop\"\n",
    "\n",
    "# Iterate over videos in the playlist and download each one\n",
    "for video_url in playlist.video_urls:\n",
    "    video = YouTube(video_url)\n",
    "    video.streams.get_highest_resolution().download(output_path=output_path)\n",
    "\n",
    "print(\"Download completed.\")"
   ]
  },
  {
   "cell_type": "code",
   "execution_count": 11,
   "id": "3b5a7f11",
   "metadata": {},
   "outputs": [
    {
     "name": "stdout",
     "output_type": "stream",
     "text": [
      "Title: Python for Beginners [Full Course - 2024] | Python Full Course - Learn Python in 12 Hours | Edureka\n",
      "Duration: 42900 seconds\n",
      "Views: 120741\n",
      "Publish Date: 2023-01-03 00:00:00\n"
     ]
    }
   ],
   "source": [
    "from pytube import YouTube\n",
    "\n",
    "# YouTube video URL\n",
    "video_url = \"https://www.youtube.com/watch?v=X6bFJI9r-mM\"\n",
    "\n",
    "# Create a YouTube object\n",
    "yt = YouTube(video_url)\n",
    "\n",
    "# Get video details\n",
    "title = yt.title\n",
    "duration = yt.length  # in seconds\n",
    "views = yt.views\n",
    "publish_date = yt.publish_date\n",
    "\n",
    "# Print video details\n",
    "print(\"Title:\", title)\n",
    "print(\"Duration:\", duration, \"seconds\")\n",
    "print(\"Views:\", views)\n",
    "print(\"Publish Date:\", publish_date)\n"
   ]
  }
 ],
 "metadata": {
  "kernelspec": {
   "display_name": "Python 3 (ipykernel)",
   "language": "python",
   "name": "python3"
  },
  "language_info": {
   "codemirror_mode": {
    "name": "ipython",
    "version": 3
   },
   "file_extension": ".py",
   "mimetype": "text/x-python",
   "name": "python",
   "nbconvert_exporter": "python",
   "pygments_lexer": "ipython3",
   "version": "3.11.4"
  }
 },
 "nbformat": 4,
 "nbformat_minor": 5
}
